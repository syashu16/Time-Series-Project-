{
 "cells": [
  {
   "cell_type": "markdown",
   "metadata": {},
   "source": [
    "# Assessing the Impact of Climate-Induced Rainfall Variability on Dengue Trends in Kerala: A Time Series Decomposition Approach\n",
    "\n",
    "## Abstract\n",
    "This study presents a comprehensive analysis of climate-induced rainfall variability and its impact on dengue trends in Kerala, India, using advanced time series decomposition methods. We analyze 17 years (2006-2022) of monthly data to quantify the relationship between rainfall patterns and dengue incidence using novel methodological contributions including STL-DLNM approach, extreme rainfall metrics, and counterfactual attribution analysis.\n",
    "\n",
    "## Research Objectives\n",
    "1. Apply STL decomposition to isolate trend, seasonal, and residual components\n",
    "2. Quantify correlation between detrended rainfall and dengue trends\n",
    "3. Model lagged, nonlinear relationships using Distributed Lag Non-Linear Models\n",
    "4. Implement Bayesian Structural Time Series for counterfactual analysis\n",
    "5. Detect structural breaks in rainfall regime using change point detection\n",
    "6. Examine time-varying coupling through wavelet coherence\n",
    "7. Develop early warning system for dengue outbreaks\n",
    "\n",
    "## Data Overview\n",
    "- **Time Period**: 2006-2022 (17 years, 204 monthly observations)\n",
    "- **Variables**: Monthly rainfall (mm) and dengue incidence (cases)\n",
    "- **Study Area**: Kerala, India\n",
    "- **Data Structure**: Wide format converted to time series"
   ]
  },
  {
   "cell_type": "code",
   "execution_count": null,
   "metadata": {},
   "outputs": [],
   "source": [
    "# Import Required Libraries\n",
    "import pandas as pd\n",
    "import numpy as np\n",
    "import matplotlib.pyplot as plt\n",
    "import seaborn as sns\n",
    "from scipy import stats\n",
    "from scipy.stats import pearsonr, spearmanr\n",
    "from sklearn.preprocessing import StandardScaler\n",
    "from sklearn.linear_model import LinearRegression\n",
    "from sklearn.model_selection import cross_val_score, TimeSeriesSplit\n",
    "from sklearn.metrics import mean_squared_error, r2_score\n",
    "import statsmodels.api as sm\n",
    "from statsmodels.tsa.seasonal import STL\n",
    "from statsmodels.tsa.stattools import adfuller, acf, pacf\n",
    "from statsmodels.graphics.tsaplots import plot_acf, plot_pacf\n",
    "import ruptures as rpt\n",
    "import warnings\n",
    "warnings.filterwarnings('ignore')\n",
    "\n",
    "# Set random seeds for reproducibility\n",
    "np.random.seed(42)\n",
    "\n",
    "# Configure plotting\n",
    "plt.style.use('seaborn-v0_8-whitegrid')\n",
    "sns.set_palette(\"husl\")\n",
    "\n",
    "# Set figure parameters for publication quality\n",
    "plt.rcParams['figure.dpi'] = 300\n",
    "plt.rcParams['savefig.dpi'] = 300\n",
    "plt.rcParams['font.size'] = 12\n",
    "plt.rcParams['axes.titlesize'] = 14\n",
    "plt.rcParams['axes.labelsize'] = 12\n",
    "plt.rcParams['xtick.labelsize'] = 10\n",
    "plt.rcParams['ytick.labelsize'] = 10\n",
    "plt.rcParams['legend.fontsize'] = 10\n",
    "\n",
    "print(\"Libraries imported successfully!\")\n",
    "print(f\"NumPy version: {np.__version__}\")\n",
    "print(f\"Pandas version: {pd.__version__}\")\n",
    "print(f\"Matplotlib version: {plt.matplotlib.__version__}\")"
   ]
  }
 ],
 "metadata": {
  "kernelspec": {
   "display_name": "Python 3",
   "language": "python",
   "name": "python3"
  },
  "language_info": {
   "codemirror_mode": {
    "name": "ipython",
    "version": 3
   },
   "file_extension": ".py",
   "mimetype": "text/x-python",
   "name": "python",
   "nbconvert_exporter": "python",
   "pygments_lexer": "ipython3",
   "version": "3.8.5"
  }
 },
 "nbformat": 4,
 "nbformat_minor": 4
}
